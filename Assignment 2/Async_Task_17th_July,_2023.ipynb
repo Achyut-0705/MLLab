{
  "nbformat": 4,
  "nbformat_minor": 0,
  "metadata": {
    "colab": {
      "provenance": []
    },
    "kernelspec": {
      "name": "python3",
      "display_name": "Python 3"
    },
    "language_info": {
      "name": "python"
    }
  },
  "cells": [
    {
      "cell_type": "markdown",
      "source": [
        "To apply Bayes' rule in Python, we need to use the formula:\n",
        "\n",
        "P(A|B) = (P(B|A) * P(A)) / P(B)\n",
        "\n",
        "Where:\n",
        "\n",
        "P(A|B) is the probability of event A occurring given that event B has occurred.\n",
        "P(B|A) is the probability of event B occurring given that event A has occurred.\n",
        "P(A) is the probability of event A occurring.\n",
        "P(B) is the probability of event B occurring.\n",
        "In this case:\n",
        "\n",
        "Event A is a student being absent.\n",
        "Event B is today being Friday.\n",
        "\n",
        "Problem Statement:\n",
        "The probability that it is Friday and that a student is absent is 3%. Since there are five school days in a week, the probability that it is Friday is 20%. What is the probability that a student is absent given that today is Friday?\n",
        "\n",
        "Approach: P(B | A) = 0.03, P(A) = 0.2, P(B) = 0.2"
      ],
      "metadata": {
        "id": "sCbLMoFgVmEZ"
      }
    },
    {
      "cell_type": "code",
      "execution_count": null,
      "metadata": {
        "colab": {
          "base_uri": "https://localhost:8080/"
        },
        "id": "8Mt4pwW7VXvu",
        "outputId": "331e4a4c-7159-437c-b423-b9166c66da19"
      },
      "outputs": [
        {
          "output_type": "stream",
          "name": "stdout",
          "text": [
            "The probability that a student is absent given that today is Friday is: 0.03\n"
          ]
        }
      ],
      "source": [
        "P_A_given_B = (0.03 * 0.2) / 0.2\n",
        "\n",
        "print(f\"The probability that a student is absent given that today is Friday is: {P_A_given_B}\")"
      ]
    }
  ]
}